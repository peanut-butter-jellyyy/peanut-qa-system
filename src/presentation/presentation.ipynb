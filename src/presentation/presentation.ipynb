{
 "cells": [
  {
   "cell_type": "markdown",
   "metadata": {},
   "source": [
    "### BERT for Question Answering"
   ]
  },
  {
   "cell_type": "code",
   "execution_count": 1,
   "metadata": {},
   "outputs": [
    {
     "name": "stderr",
     "output_type": "stream",
     "text": [
      "c:\\Users\\Gaby\\Anaconda3\\envs\\qaSystem\\lib\\site-packages\\tqdm\\auto.py:22: TqdmWarning: IProgress not found. Please update jupyter and ipywidgets. See https://ipywidgets.readthedocs.io/en/stable/user_install.html\n",
      "  from .autonotebook import tqdm as notebook_tqdm\n"
     ]
    }
   ],
   "source": [
    "from transformers import BertTokenizer, BertForQuestionAnswering\n",
    "import torch"
   ]
  },
  {
   "cell_type": "markdown",
   "metadata": {},
   "source": [
    "### A bert base model fined tuned with SQuAD 2 dataset"
   ]
  },
  {
   "cell_type": "code",
   "execution_count": 2,
   "metadata": {},
   "outputs": [],
   "source": [
    "class PeanutQASystem():\n",
    "    def __init__(self): \n",
    "        self.tokenizer = BertTokenizer.from_pretrained(\"deepset/bert-base-cased-squad2\")\n",
    "        self.model = BertForQuestionAnswering.from_pretrained(\"deepset/bert-base-cased-squad2\")\n",
    "\n",
    "    def predict_answer_for_qi(self, qid, data):\n",
    "        return self.predict_answer(data[\"question\"][qid], data[\"text\"][qid])\n",
    "\n",
    "    def predict_answer(self, question, context):\n",
    "        #encoding question + context to input a single vector to bert\n",
    "        input_ids = self.tokenizer.encode(question, context)\n",
    "        tokens = self.tokenizer.convert_ids_to_tokens(input_ids) # getting tokens back\n",
    "\n",
    "        sep_idx = input_ids.index(self.tokenizer.sep_token_id)\n",
    "\n",
    "        #number of tokens in segment Q (question)\n",
    "        num_seg_q = sep_idx + 1\n",
    "        #number of tokens in segment T (text)\n",
    "        num_seg_t = len(input_ids) - num_seg_q\n",
    "\n",
    "        #creating the segment ids\n",
    "        segment_ids = [0]*num_seg_q + [1]*num_seg_t #to differentiate our segments - question and text\n",
    "\n",
    "        #making sure that every input token has a segment id\n",
    "        assert len(segment_ids) == len(input_ids)\n",
    "\n",
    "        output = self.model(torch.tensor([input_ids]),  token_type_ids=torch.tensor([segment_ids]))\n",
    "\n",
    "        #tokens with highest start and end scores\n",
    "        answer_start = torch.argmax(output.start_logits)\n",
    "        answer_end = torch.argmax(output.end_logits)\n",
    "        if answer_end >= answer_start:\n",
    "            answer = tokens[answer_start]\n",
    "            for i in range(answer_start+1, answer_end+1): #removing Bert spetials symbols like ##\n",
    "                if tokens[i][0:2] == \"##\":\n",
    "                    answer += tokens[i][2:]\n",
    "                else:\n",
    "                    answer += \" \" + tokens[i]\n",
    "        else:\n",
    "            answer = \"\"\n",
    "\n",
    "        if answer.startswith(\"[CLS]\"):\n",
    "            answer = \"\"\n",
    "\n",
    "        return answer"
   ]
  },
  {
   "cell_type": "code",
   "execution_count": 3,
   "metadata": {},
   "outputs": [],
   "source": [
    "import pandas as pd"
   ]
  },
  {
   "cell_type": "markdown",
   "metadata": {},
   "source": [
    "### SQuAD"
   ]
  },
  {
   "cell_type": "code",
   "execution_count": 4,
   "metadata": {},
   "outputs": [],
   "source": [
    "cols = [\"text\",\"question\",\"answer\"]\n",
    "squad_raw_data = pd.read_json('./dev-v2.0.json')\n",
    "comp_list = []\n",
    "for index, row in squad_raw_data.iterrows():\n",
    "    for i in range(len(row[\"data\"][\"paragraphs\"])): # each article\n",
    "        for j in range(len(row[\"data\"][\"paragraphs\"][i])): # each paragraph\n",
    "            for k in range(len(row[\"data\"][\"paragraphs\"][i]['qas'])):# each question about the selected paragraph\n",
    "                temp_list = []\n",
    "                temp_list.append(row[\"data\"][\"paragraphs\"][i][\"context\"])\n",
    "                temp_list.append(row[\"data\"][\"paragraphs\"][i]['qas'][k][\"question\"])\n",
    "                try:\n",
    "                    temp_list.append(row[\"data\"][\"paragraphs\"][i]['qas'][k][\"answers\"][0][\"text\"])\n",
    "                except IndexError:\n",
    "                    temp_list.append(\"\")\n",
    "                comp_list.append(temp_list)\n",
    "new_df = pd.DataFrame(comp_list, columns=cols) \n",
    "new_df.to_csv('./dev-v2.0.csv', index=False)\n",
    "data = pd.read_csv('./dev-v2.0.csv')\n"
   ]
  },
  {
   "cell_type": "code",
   "execution_count": 5,
   "metadata": {},
   "outputs": [
    {
     "data": {
      "text/html": [
       "<div>\n",
       "<style scoped>\n",
       "    .dataframe tbody tr th:only-of-type {\n",
       "        vertical-align: middle;\n",
       "    }\n",
       "\n",
       "    .dataframe tbody tr th {\n",
       "        vertical-align: top;\n",
       "    }\n",
       "\n",
       "    .dataframe thead th {\n",
       "        text-align: right;\n",
       "    }\n",
       "</style>\n",
       "<table border=\"1\" class=\"dataframe\">\n",
       "  <thead>\n",
       "    <tr style=\"text-align: right;\">\n",
       "      <th></th>\n",
       "      <th>text</th>\n",
       "      <th>question</th>\n",
       "      <th>answer</th>\n",
       "    </tr>\n",
       "  </thead>\n",
       "  <tbody>\n",
       "    <tr>\n",
       "      <th>0</th>\n",
       "      <td>The Normans (Norman: Nourmands; French: Norman...</td>\n",
       "      <td>In what country is Normandy located?</td>\n",
       "      <td>France</td>\n",
       "    </tr>\n",
       "    <tr>\n",
       "      <th>1</th>\n",
       "      <td>The Normans (Norman: Nourmands; French: Norman...</td>\n",
       "      <td>When were the Normans in Normandy?</td>\n",
       "      <td>10th and 11th centuries</td>\n",
       "    </tr>\n",
       "    <tr>\n",
       "      <th>2</th>\n",
       "      <td>The Normans (Norman: Nourmands; French: Norman...</td>\n",
       "      <td>From which countries did the Norse originate?</td>\n",
       "      <td>Denmark, Iceland and Norway</td>\n",
       "    </tr>\n",
       "    <tr>\n",
       "      <th>3</th>\n",
       "      <td>The Normans (Norman: Nourmands; French: Norman...</td>\n",
       "      <td>Who was the Norse leader?</td>\n",
       "      <td>Rollo</td>\n",
       "    </tr>\n",
       "    <tr>\n",
       "      <th>4</th>\n",
       "      <td>The Normans (Norman: Nourmands; French: Norman...</td>\n",
       "      <td>What century did the Normans first gain their ...</td>\n",
       "      <td>10th century</td>\n",
       "    </tr>\n",
       "  </tbody>\n",
       "</table>\n",
       "</div>"
      ],
      "text/plain": [
       "                                                text  \\\n",
       "0  The Normans (Norman: Nourmands; French: Norman...   \n",
       "1  The Normans (Norman: Nourmands; French: Norman...   \n",
       "2  The Normans (Norman: Nourmands; French: Norman...   \n",
       "3  The Normans (Norman: Nourmands; French: Norman...   \n",
       "4  The Normans (Norman: Nourmands; French: Norman...   \n",
       "\n",
       "                                            question  \\\n",
       "0               In what country is Normandy located?   \n",
       "1                 When were the Normans in Normandy?   \n",
       "2      From which countries did the Norse originate?   \n",
       "3                          Who was the Norse leader?   \n",
       "4  What century did the Normans first gain their ...   \n",
       "\n",
       "                        answer  \n",
       "0                       France  \n",
       "1      10th and 11th centuries  \n",
       "2  Denmark, Iceland and Norway  \n",
       "3                        Rollo  \n",
       "4                 10th century  "
      ]
     },
     "execution_count": 5,
     "metadata": {},
     "output_type": "execute_result"
    }
   ],
   "source": [
    "data.head()\n"
   ]
  },
  {
   "cell_type": "code",
   "execution_count": 6,
   "metadata": {},
   "outputs": [],
   "source": [
    "import numpy as np"
   ]
  },
  {
   "cell_type": "code",
   "execution_count": 7,
   "metadata": {},
   "outputs": [
    {
     "name": "stdout",
     "output_type": "stream",
     "text": [
      "Context: \n",
      "In the final years of the apartheid era, parents at white government schools were given the option to convert to a \"semi-private\" form called Model C, and many of these schools changed their admissions policies to accept children of other races. Following the transition to democracy, the legal form of \"Model C\" was abolished, however, the term continues to be used to describe government schools formerly reserved for white children.. These schools tend to produce better academic results than government schools formerly reserved for other race groups . Former \"Model C\" schools are not private schools, as they are state-controlled. All schools in South Africa (including both independent schools and public schools) have the right to set compulsory school fees, and formerly model C schools tend to set much higher school fees than other public schools.\n",
      "Question: \n",
      "How do academic results in former Model C schools compare to other schools?\n",
      "Prediction: \n",
      "better academic results\n"
     ]
    }
   ],
   "source": [
    "peanut_qa = PeanutQASystem()\n",
    "random_num = np.random.randint(0,len(data))\n",
    "prediction = peanut_qa.predict_answer_for_qi(random_num, data)\n",
    "\n",
    "print(\"Context: \")\n",
    "print(data[\"text\"][random_num])\n",
    "print(\"Question: \")\n",
    "print(data[\"question\"][random_num])\n",
    "print(\"Prediction: \")\n",
    "print(prediction)"
   ]
  },
  {
   "cell_type": "markdown",
   "metadata": {},
   "source": [
    "### CoQA"
   ]
  },
  {
   "cell_type": "code",
   "execution_count": 8,
   "metadata": {},
   "outputs": [],
   "source": [
    "coqa_raw_data = pd.read_json('coqa-dev-v1.0.json')\n",
    "comp_list = []\n",
    "for index, row in coqa_raw_data.iterrows():\n",
    "    for i in range(len(row[\"data\"][\"questions\"])):\n",
    "        temp_list = []\n",
    "        temp_list.append(row[\"data\"][\"story\"])\n",
    "        temp_list.append(row[\"data\"][\"questions\"][i][\"input_text\"])\n",
    "        temp_list.append(row[\"data\"][\"answers\"][i][\"input_text\"])\n",
    "        comp_list.append(temp_list)\n",
    "new_df = pd.DataFrame(comp_list, columns=cols) \n",
    "new_df.to_csv('coqa-dev-v1.0.csv', index=False)\n",
    "coqa_data = pd.read_csv('coqa-dev-v1.0.csv')"
   ]
  },
  {
   "cell_type": "code",
   "execution_count": 9,
   "metadata": {},
   "outputs": [
    {
     "data": {
      "text/html": [
       "<div>\n",
       "<style scoped>\n",
       "    .dataframe tbody tr th:only-of-type {\n",
       "        vertical-align: middle;\n",
       "    }\n",
       "\n",
       "    .dataframe tbody tr th {\n",
       "        vertical-align: top;\n",
       "    }\n",
       "\n",
       "    .dataframe thead th {\n",
       "        text-align: right;\n",
       "    }\n",
       "</style>\n",
       "<table border=\"1\" class=\"dataframe\">\n",
       "  <thead>\n",
       "    <tr style=\"text-align: right;\">\n",
       "      <th></th>\n",
       "      <th>text</th>\n",
       "      <th>question</th>\n",
       "      <th>answer</th>\n",
       "    </tr>\n",
       "  </thead>\n",
       "  <tbody>\n",
       "    <tr>\n",
       "      <th>0</th>\n",
       "      <td>Once upon a time, in a barn near a farm house,...</td>\n",
       "      <td>What color was Cotton?</td>\n",
       "      <td>white</td>\n",
       "    </tr>\n",
       "    <tr>\n",
       "      <th>1</th>\n",
       "      <td>Once upon a time, in a barn near a farm house,...</td>\n",
       "      <td>Where did she live?</td>\n",
       "      <td>in a barn</td>\n",
       "    </tr>\n",
       "    <tr>\n",
       "      <th>2</th>\n",
       "      <td>Once upon a time, in a barn near a farm house,...</td>\n",
       "      <td>Did she live alone?</td>\n",
       "      <td>no</td>\n",
       "    </tr>\n",
       "    <tr>\n",
       "      <th>3</th>\n",
       "      <td>Once upon a time, in a barn near a farm house,...</td>\n",
       "      <td>Who did she live with?</td>\n",
       "      <td>with her mommy and 5 sisters</td>\n",
       "    </tr>\n",
       "    <tr>\n",
       "      <th>4</th>\n",
       "      <td>Once upon a time, in a barn near a farm house,...</td>\n",
       "      <td>What color were her sisters?</td>\n",
       "      <td>orange and white</td>\n",
       "    </tr>\n",
       "  </tbody>\n",
       "</table>\n",
       "</div>"
      ],
      "text/plain": [
       "                                                text  \\\n",
       "0  Once upon a time, in a barn near a farm house,...   \n",
       "1  Once upon a time, in a barn near a farm house,...   \n",
       "2  Once upon a time, in a barn near a farm house,...   \n",
       "3  Once upon a time, in a barn near a farm house,...   \n",
       "4  Once upon a time, in a barn near a farm house,...   \n",
       "\n",
       "                       question                        answer  \n",
       "0        What color was Cotton?                         white  \n",
       "1           Where did she live?                     in a barn  \n",
       "2           Did she live alone?                            no  \n",
       "3        Who did she live with?  with her mommy and 5 sisters  \n",
       "4  What color were her sisters?              orange and white  "
      ]
     },
     "execution_count": 9,
     "metadata": {},
     "output_type": "execute_result"
    }
   ],
   "source": [
    "coqa_data.head()"
   ]
  },
  {
   "cell_type": "code",
   "execution_count": 18,
   "metadata": {},
   "outputs": [
    {
     "name": "stdout",
     "output_type": "stream",
     "text": [
      "Context: \n",
      "The first commercially successful true engine, in that it could generate power and transmit it to a machine, was the atmospheric engine, invented by Thomas Newcomen around 1712. It was an improvement over Savery's steam pump, using a piston as proposed by Papin. Newcomen's engine was relatively inefficient, and in most cases was used for pumping water. It worked by creating a partial vacuum by condensing steam under a piston within a cylinder. It was employed for draining mine workings at depths hitherto impossible, and also for providing a reusable water supply for driving waterwheels at factories sited away from a suitable \"head\". Water that had passed over the wheel was pumped back up into a storage reservoir above the wheel.\n",
      "Question: \n",
      "Who conceptualized the vacuum?\n",
      "Prediction: \n",
      "\n"
     ]
    }
   ],
   "source": [
    "random_num = np.random.randint(0,len(coqa_data))\n",
    "prediction = peanut_qa.predict_answer_for_qi(random_num, coqa_data)\n",
    "\n",
    "print(\"Context: \")\n",
    "print(data[\"text\"][random_num])\n",
    "print(\"Question: \")\n",
    "print(data[\"question\"][random_num])\n",
    "print(\"Prediction: \")\n",
    "print(prediction)"
   ]
  },
  {
   "cell_type": "markdown",
   "metadata": {},
   "source": [
    "### Functions to compute basic metrics"
   ]
  },
  {
   "cell_type": "markdown",
   "metadata": {},
   "source": [
    "---\n",
    "|    X   |exact match |f1 score|\n",
    "|---|---|---\n",
    "| SQUAD | 60.0 | 73.33|\n",
    "|---|---|---|\n",
    "| COQA  |14.8|23.30|\n",
    "---\n"
   ]
  }
 ],
 "metadata": {
  "kernelspec": {
   "display_name": "Python 3.8.13 ('qaSystem')",
   "language": "python",
   "name": "python3"
  },
  "language_info": {
   "codemirror_mode": {
    "name": "ipython",
    "version": 3
   },
   "file_extension": ".py",
   "mimetype": "text/x-python",
   "name": "python",
   "nbconvert_exporter": "python",
   "pygments_lexer": "ipython3",
   "version": "3.8.13"
  },
  "orig_nbformat": 4,
  "vscode": {
   "interpreter": {
    "hash": "2e7e1f062d3b593b9985792c0770527df2afde6a03cb75a6ba5fdee16f62124c"
   }
  }
 },
 "nbformat": 4,
 "nbformat_minor": 2
}
